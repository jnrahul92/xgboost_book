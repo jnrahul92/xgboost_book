{
 "cells": [
  {
   "cell_type": "code",
   "execution_count": 1,
   "id": "5ebedfc6",
   "metadata": {},
   "outputs": [],
   "source": [
    "import pandas as pd\n",
    "import numpy as np\n",
    "from sklearn.datasets import load_diabetes\n",
    "from sklearn.model_selection import cross_val_score\n",
    "from xgboost import XGBClassifier, XGBRegressor, XGBRFClassifier, XGBRFRegressor"
   ]
  },
  {
   "cell_type": "code",
   "execution_count": 2,
   "id": "a120a63a",
   "metadata": {},
   "outputs": [],
   "source": [
    "from sklearn.ensemble import RandomForestRegressor, RandomForestClassifier\n",
    "from sklearn.linear_model import LinearRegression, LogisticRegression, Lasso, Ridge\n",
    "from sklearn.model_selection import GridSearchCV, KFold\n",
    "from sklearn.metrics import mean_squared_error as mse"
   ]
  },
  {
   "cell_type": "code",
   "execution_count": 3,
   "id": "74d5ca68",
   "metadata": {},
   "outputs": [],
   "source": [
    "X,y = load_diabetes(return_X_y= True)"
   ]
  },
  {
   "cell_type": "code",
   "execution_count": 4,
   "id": "38fade24",
   "metadata": {},
   "outputs": [],
   "source": [
    "kfold = KFold(n_splits= 5, shuffle= True, random_state= 2)"
   ]
  },
  {
   "cell_type": "code",
   "execution_count": 5,
   "id": "292251c9",
   "metadata": {},
   "outputs": [],
   "source": [
    "def regression_model(model):\n",
    "    scores = cross_val_score(model, X, y, scoring= \"neg_mean_squared_error\", cv= kfold)\n",
    "    rmse = (-scores)**0.5\n",
    "    return rmse.mean()"
   ]
  },
  {
   "cell_type": "code",
   "execution_count": 6,
   "id": "4b5c57f0",
   "metadata": {},
   "outputs": [
    {
     "data": {
      "text/plain": [
       "55.51751412831203"
      ]
     },
     "execution_count": 6,
     "metadata": {},
     "output_type": "execute_result"
    }
   ],
   "source": [
    "regression_model(XGBRegressor(booster = \"gblinear\"))"
   ]
  },
  {
   "cell_type": "code",
   "execution_count": 7,
   "id": "86564bb1",
   "metadata": {},
   "outputs": [
    {
     "data": {
      "text/plain": [
       "55.50936875436023"
      ]
     },
     "execution_count": 7,
     "metadata": {},
     "output_type": "execute_result"
    }
   ],
   "source": [
    "regression_model(LinearRegression())"
   ]
  },
  {
   "cell_type": "code",
   "execution_count": 8,
   "id": "f9f37a15",
   "metadata": {},
   "outputs": [
    {
     "data": {
      "text/plain": [
       "62.64904114426351"
      ]
     },
     "execution_count": 8,
     "metadata": {},
     "output_type": "execute_result"
    }
   ],
   "source": [
    "regression_model(Lasso())"
   ]
  },
  {
   "cell_type": "code",
   "execution_count": 9,
   "id": "defa1c1e",
   "metadata": {},
   "outputs": [
    {
     "data": {
      "text/plain": [
       "58.835292374356676"
      ]
     },
     "execution_count": 9,
     "metadata": {},
     "output_type": "execute_result"
    }
   ],
   "source": [
    "regression_model(Ridge())"
   ]
  },
  {
   "cell_type": "code",
   "execution_count": 10,
   "id": "fa961f8f",
   "metadata": {},
   "outputs": [
    {
     "data": {
      "text/plain": [
       "65.9125519300286"
      ]
     },
     "execution_count": 10,
     "metadata": {},
     "output_type": "execute_result"
    }
   ],
   "source": [
    "regression_model(XGBRegressor(booster = \"gbtree\"))"
   ]
  },
  {
   "cell_type": "code",
   "execution_count": 15,
   "id": "e70dd9ea",
   "metadata": {},
   "outputs": [],
   "source": [
    "def grid_search(params, reg = XGBRegressor(booster = \"gblinear\")):\n",
    "    grid_reg = GridSearchCV(reg, params, scoring= \"neg_mean_squared_error\", cv=kfold)\n",
    "    grid_reg.fit(X, y)\n",
    "    best_params = grid_reg.best_params_\n",
    "    print(\"Best Params : \", best_params)\n",
    "    best_score = np.sqrt(-grid_reg.best_score_)\n",
    "    print(\"Best Score : \", best_score)"
   ]
  },
  {
   "cell_type": "code",
   "execution_count": 16,
   "id": "8eca7372",
   "metadata": {},
   "outputs": [
    {
     "name": "stdout",
     "output_type": "stream",
     "text": [
      "Best Params :  {'reg_alpha': 0.01}\n",
      "Best Score :  55.49665686756466\n"
     ]
    }
   ],
   "source": [
    "grid_search(params= {\"reg_alpha\" : [0.001, 0.01, 0.1, 0.5, 1, 5]})"
   ]
  },
  {
   "cell_type": "code",
   "execution_count": 17,
   "id": "5a1dc060",
   "metadata": {},
   "outputs": [
    {
     "name": "stdout",
     "output_type": "stream",
     "text": [
      "Best Params :  {'reg_lambda': 0.001}\n",
      "Best Score :  56.171700694302324\n"
     ]
    }
   ],
   "source": [
    "grid_search(params= {\"reg_lambda\" : [0.001, 0.01, 0.1, 0.5, 1, 5]})"
   ]
  },
  {
   "cell_type": "code",
   "execution_count": 19,
   "id": "fe3bfa48",
   "metadata": {},
   "outputs": [
    {
     "name": "stdout",
     "output_type": "stream",
     "text": [
      "Best Params :  {'feature_selector': 'shuffle'}\n",
      "Best Score :  55.5486899378168\n"
     ]
    }
   ],
   "source": [
    "grid_search(params= {'feature_selector':['shuffle']})"
   ]
  },
  {
   "cell_type": "code",
   "execution_count": 20,
   "id": "a78822aa",
   "metadata": {},
   "outputs": [
    {
     "name": "stdout",
     "output_type": "stream",
     "text": [
      "Best Params :  {'feature_selector': 'thrifty', 'updater': 'coord_descent'}\n",
      "Best Score :  55.488143951136536\n"
     ]
    }
   ],
   "source": [
    "grid_search(params= {'feature_selector' : ['random', 'greedy', 'thrifty'],\n",
    "                    'updater' : ['coord_descent']})"
   ]
  },
  {
   "cell_type": "code",
   "execution_count": 21,
   "id": "24449500",
   "metadata": {},
   "outputs": [
    {
     "name": "stdout",
     "output_type": "stream",
     "text": [
      "Best Params :  {'feature_selector': 'thrifty', 'top_k': 3, 'updater': 'coord_descent'}\n",
      "Best Score :  55.47871836076556\n"
     ]
    }
   ],
   "source": [
    "grid_search(params= {'feature_selector' : ['random', 'greedy', 'thrifty'],\n",
    "                    'updater' : ['coord_descent'],\n",
    "                    'top_k' : [3, 5, 7, 9]})"
   ]
  },
  {
   "cell_type": "code",
   "execution_count": 22,
   "id": "d0432627",
   "metadata": {},
   "outputs": [],
   "source": [
    "X = np.arange(1, 100)"
   ]
  },
  {
   "cell_type": "code",
   "execution_count": 23,
   "id": "b6814df7",
   "metadata": {},
   "outputs": [],
   "source": [
    "np.random.seed(2)"
   ]
  },
  {
   "cell_type": "code",
   "execution_count": 24,
   "id": "5ca50cdf",
   "metadata": {},
   "outputs": [],
   "source": [
    "y = []"
   ]
  },
  {
   "cell_type": "code",
   "execution_count": 25,
   "id": "5d93aae6",
   "metadata": {},
   "outputs": [],
   "source": [
    "for i in X:\n",
    "    y.append(i * np.random.uniform(-0.2, 0.2))"
   ]
  },
  {
   "cell_type": "code",
   "execution_count": 26,
   "id": "d977c18d",
   "metadata": {},
   "outputs": [],
   "source": [
    "y = np.array(y)"
   ]
  },
  {
   "cell_type": "code",
   "execution_count": 27,
   "id": "ffd3f2e3",
   "metadata": {},
   "outputs": [],
   "source": [
    "X = X.reshape(X.shape[0], 1)\n",
    "y = y.reshape(y.shape[0], 1)"
   ]
  },
  {
   "cell_type": "code",
   "execution_count": 28,
   "id": "7d62d635",
   "metadata": {},
   "outputs": [
    {
     "data": {
      "text/plain": [
       "6.214946302686011"
      ]
     },
     "execution_count": 28,
     "metadata": {},
     "output_type": "execute_result"
    }
   ],
   "source": [
    "regression_model(XGBRegressor(booster = \"gblinear\", objective = \"reg:squarederror\"))"
   ]
  },
  {
   "cell_type": "code",
   "execution_count": 30,
   "id": "969f2e60",
   "metadata": {},
   "outputs": [
    {
     "data": {
      "text/plain": [
       "9.372359516507444"
      ]
     },
     "execution_count": 30,
     "metadata": {},
     "output_type": "execute_result"
    }
   ],
   "source": [
    "regression_model(XGBRegressor(booster = \"gbtree\", objective = \"reg:squarederror\"))"
   ]
  },
  {
   "cell_type": "code",
   "execution_count": 31,
   "id": "49ab16c2",
   "metadata": {},
   "outputs": [
    {
     "data": {
      "text/plain": [
       "6.214962315808842"
      ]
     },
     "execution_count": 31,
     "metadata": {},
     "output_type": "execute_result"
    }
   ],
   "source": [
    "regression_model(LinearRegression())"
   ]
  },
  {
   "cell_type": "code",
   "execution_count": 45,
   "id": "d4086821",
   "metadata": {},
   "outputs": [],
   "source": [
    "X,y = load_diabetes(return_X_y= True)"
   ]
  },
  {
   "cell_type": "code",
   "execution_count": 33,
   "id": "45db9519",
   "metadata": {},
   "outputs": [
    {
     "data": {
      "text/plain": [
       "65.91255196051148"
      ]
     },
     "execution_count": 33,
     "metadata": {},
     "output_type": "execute_result"
    }
   ],
   "source": [
    "regression_model(XGBRegressor(booster = \"dart\", objective = \"reg:squarederror\"))"
   ]
  },
  {
   "cell_type": "code",
   "execution_count": 34,
   "id": "ce007592",
   "metadata": {},
   "outputs": [],
   "source": [
    "df_census = pd.read_csv(\"Data/Hands-On-Gradient-Boosting-with-XGBoost-and-Scikit-learn/Chapter08/census_cleaned.csv\")"
   ]
  },
  {
   "cell_type": "code",
   "execution_count": 36,
   "id": "4f4800cb",
   "metadata": {},
   "outputs": [],
   "source": [
    "X_census = df_census.iloc[:,:-1]\n",
    "y_census = df_census.iloc[:,-1]"
   ]
  },
  {
   "cell_type": "code",
   "execution_count": 37,
   "id": "e66d949d",
   "metadata": {},
   "outputs": [],
   "source": [
    "def classification_model(model):\n",
    "    scores = cross_val_score(model, X_census, y_census, scoring= \"accuracy\", cv=kfold)\n",
    "    return scores.mean()"
   ]
  },
  {
   "cell_type": "code",
   "execution_count": 38,
   "id": "9b809bac",
   "metadata": {},
   "outputs": [
    {
     "data": {
      "text/plain": [
       "0.8701208195968675"
      ]
     },
     "execution_count": 38,
     "metadata": {},
     "output_type": "execute_result"
    }
   ],
   "source": [
    "classification_model(XGBClassifier(booster = \"gbtree\"))"
   ]
  },
  {
   "cell_type": "code",
   "execution_count": 39,
   "id": "a3d1f593",
   "metadata": {},
   "outputs": [
    {
     "data": {
      "text/plain": [
       "0.8701208195968675"
      ]
     },
     "execution_count": 39,
     "metadata": {},
     "output_type": "execute_result"
    }
   ],
   "source": [
    "classification_model(XGBClassifier(booster = \"dart\"))"
   ]
  },
  {
   "cell_type": "code",
   "execution_count": 40,
   "id": "134bd4c1",
   "metadata": {},
   "outputs": [
    {
     "data": {
      "text/plain": [
       "0.850250415819278"
      ]
     },
     "execution_count": 40,
     "metadata": {},
     "output_type": "execute_result"
    }
   ],
   "source": [
    "classification_model(XGBClassifier(booster = \"gblinear\"))"
   ]
  },
  {
   "cell_type": "code",
   "execution_count": 41,
   "id": "37dba765",
   "metadata": {},
   "outputs": [
    {
     "data": {
      "text/plain": [
       "0.8008968643699182"
      ]
     },
     "execution_count": 41,
     "metadata": {},
     "output_type": "execute_result"
    }
   ],
   "source": [
    "classification_model(LogisticRegression(max_iter= 1000))"
   ]
  },
  {
   "cell_type": "code",
   "execution_count": 42,
   "id": "d240ef22",
   "metadata": {},
   "outputs": [
    {
     "data": {
      "text/plain": [
       "0.8719021746716356"
      ]
     },
     "execution_count": 42,
     "metadata": {},
     "output_type": "execute_result"
    }
   ],
   "source": [
    "classification_model(XGBClassifier(booster = \"dart\", one_drop = 1))"
   ]
  },
  {
   "cell_type": "code",
   "execution_count": 46,
   "id": "0deaf1c4",
   "metadata": {},
   "outputs": [
    {
     "data": {
      "text/plain": [
       "65.91255196051148"
      ]
     },
     "execution_count": 46,
     "metadata": {},
     "output_type": "execute_result"
    }
   ],
   "source": [
    "regression_model(XGBRegressor(booster = \"dart\", objective = \"reg:squarederror\", sample_type = \"weighted\"))"
   ]
  },
  {
   "cell_type": "code",
   "execution_count": 47,
   "id": "8ec1d3df",
   "metadata": {},
   "outputs": [
    {
     "data": {
      "text/plain": [
       "65.91255196051148"
      ]
     },
     "execution_count": 47,
     "metadata": {},
     "output_type": "execute_result"
    }
   ],
   "source": [
    "regression_model(XGBRegressor(booster = \"dart\", objective = \"reg:squarederror\",normalize_type = \"forest\"))"
   ]
  },
  {
   "cell_type": "code",
   "execution_count": 48,
   "id": "e59eaa02",
   "metadata": {},
   "outputs": [
    {
     "data": {
      "text/plain": [
       "62.863317693761566"
      ]
     },
     "execution_count": 48,
     "metadata": {},
     "output_type": "execute_result"
    }
   ],
   "source": [
    "regression_model(XGBRegressor(booster = \"dart\", objective = \"reg:squarederror\", one_drop = 1))"
   ]
  },
  {
   "cell_type": "code",
   "execution_count": 49,
   "id": "ef9e291e",
   "metadata": {},
   "outputs": [
    {
     "name": "stdout",
     "output_type": "stream",
     "text": [
      "Best Params :  {'rate_drop': 0.01}\n",
      "Best Score :  62.096735521735894\n"
     ]
    }
   ],
   "source": [
    "grid_search(params= {\"rate_drop\" : [0.01, 0.1, 0.2, 0.4]},\n",
    "           reg= XGBRegressor(booster = \"dart\", objective = \"reg:squarederror\", one_drop = 1))"
   ]
  },
  {
   "cell_type": "code",
   "execution_count": 50,
   "id": "8bcd2ed3",
   "metadata": {},
   "outputs": [
    {
     "name": "stdout",
     "output_type": "stream",
     "text": [
      "Best Params :  {'skip_drop': 0.01}\n",
      "Best Score :  65.97459497209029\n"
     ]
    }
   ],
   "source": [
    "grid_search(params= {\"skip_drop\" : [0.01, 0.1, 0.2, 0.4]},\n",
    "           reg= XGBRegressor(booster = \"dart\", objective = \"reg:squarederror\"))"
   ]
  },
  {
   "cell_type": "code",
   "execution_count": 51,
   "id": "a0ff3e31",
   "metadata": {},
   "outputs": [
    {
     "data": {
      "text/plain": [
       "65.95866495368594"
      ]
     },
     "execution_count": 51,
     "metadata": {},
     "output_type": "execute_result"
    }
   ],
   "source": [
    "regression_model(XGBRegressor(booster = \"gbtree\", objective = \"reg:squarederror\",\n",
    "                             num_parallel_tree = 25))"
   ]
  },
  {
   "cell_type": "code",
   "execution_count": 52,
   "id": "0c712767",
   "metadata": {},
   "outputs": [
    {
     "data": {
      "text/plain": [
       "65.95725434716181"
      ]
     },
     "execution_count": 52,
     "metadata": {},
     "output_type": "execute_result"
    }
   ],
   "source": [
    "regression_model(XGBRegressor(booster = \"gbtree\", objective = \"reg:squarederror\",\n",
    "                             num_parallel_tree = 5))"
   ]
  },
  {
   "cell_type": "code",
   "execution_count": 53,
   "id": "d71b0d3a",
   "metadata": {},
   "outputs": [
    {
     "data": {
      "text/plain": [
       "59.18988979010296"
      ]
     },
     "execution_count": 53,
     "metadata": {},
     "output_type": "execute_result"
    }
   ],
   "source": [
    "regression_model(XGBRFRegressor(objective = \"reg:squarederror\"))"
   ]
  },
  {
   "cell_type": "code",
   "execution_count": 54,
   "id": "3aaacdae",
   "metadata": {},
   "outputs": [
    {
     "data": {
      "text/plain": [
       "59.44526192030271"
      ]
     },
     "execution_count": 54,
     "metadata": {},
     "output_type": "execute_result"
    }
   ],
   "source": [
    "regression_model(RandomForestRegressor())"
   ]
  },
  {
   "cell_type": "code",
   "execution_count": 55,
   "id": "6b6108fc",
   "metadata": {},
   "outputs": [
    {
     "data": {
      "text/plain": [
       "0.8554714187199218"
      ]
     },
     "execution_count": 55,
     "metadata": {},
     "output_type": "execute_result"
    }
   ],
   "source": [
    "classification_model(XGBRFClassifier())"
   ]
  },
  {
   "cell_type": "code",
   "execution_count": 56,
   "id": "3b35e5a5",
   "metadata": {},
   "outputs": [
    {
     "data": {
      "text/plain": [
       "0.8555328202034789"
      ]
     },
     "execution_count": 56,
     "metadata": {},
     "output_type": "execute_result"
    }
   ],
   "source": [
    "classification_model(RandomForestClassifier())"
   ]
  },
  {
   "cell_type": "code",
   "execution_count": null,
   "id": "6487823e",
   "metadata": {},
   "outputs": [],
   "source": []
  }
 ],
 "metadata": {
  "kernelspec": {
   "display_name": "xgb",
   "language": "python",
   "name": "xgb"
  },
  "language_info": {
   "codemirror_mode": {
    "name": "ipython",
    "version": 3
   },
   "file_extension": ".py",
   "mimetype": "text/x-python",
   "name": "python",
   "nbconvert_exporter": "python",
   "pygments_lexer": "ipython3",
   "version": "3.9.7"
  }
 },
 "nbformat": 4,
 "nbformat_minor": 5
}
