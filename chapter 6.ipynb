{
 "cells": [
  {
   "cell_type": "code",
   "execution_count": 1,
   "id": "c9c9ca40",
   "metadata": {},
   "outputs": [
    {
     "data": {
      "text/html": [
       "<div>\n",
       "<style scoped>\n",
       "    .dataframe tbody tr th:only-of-type {\n",
       "        vertical-align: middle;\n",
       "    }\n",
       "\n",
       "    .dataframe tbody tr th {\n",
       "        vertical-align: top;\n",
       "    }\n",
       "\n",
       "    .dataframe thead th {\n",
       "        text-align: right;\n",
       "    }\n",
       "</style>\n",
       "<table border=\"1\" class=\"dataframe\">\n",
       "  <thead>\n",
       "    <tr style=\"text-align: right;\">\n",
       "      <th></th>\n",
       "      <th>age</th>\n",
       "      <th>sex</th>\n",
       "      <th>cp</th>\n",
       "      <th>trestbps</th>\n",
       "      <th>chol</th>\n",
       "      <th>fbs</th>\n",
       "      <th>restecg</th>\n",
       "      <th>thalach</th>\n",
       "      <th>exang</th>\n",
       "      <th>oldpeak</th>\n",
       "      <th>slope</th>\n",
       "      <th>ca</th>\n",
       "      <th>thal</th>\n",
       "      <th>target</th>\n",
       "    </tr>\n",
       "  </thead>\n",
       "  <tbody>\n",
       "    <tr>\n",
       "      <th>0</th>\n",
       "      <td>63</td>\n",
       "      <td>1</td>\n",
       "      <td>3</td>\n",
       "      <td>145</td>\n",
       "      <td>233</td>\n",
       "      <td>1</td>\n",
       "      <td>0</td>\n",
       "      <td>150</td>\n",
       "      <td>0</td>\n",
       "      <td>2.3</td>\n",
       "      <td>0</td>\n",
       "      <td>0</td>\n",
       "      <td>1</td>\n",
       "      <td>1</td>\n",
       "    </tr>\n",
       "    <tr>\n",
       "      <th>1</th>\n",
       "      <td>37</td>\n",
       "      <td>1</td>\n",
       "      <td>2</td>\n",
       "      <td>130</td>\n",
       "      <td>250</td>\n",
       "      <td>0</td>\n",
       "      <td>1</td>\n",
       "      <td>187</td>\n",
       "      <td>0</td>\n",
       "      <td>3.5</td>\n",
       "      <td>0</td>\n",
       "      <td>0</td>\n",
       "      <td>2</td>\n",
       "      <td>1</td>\n",
       "    </tr>\n",
       "    <tr>\n",
       "      <th>2</th>\n",
       "      <td>41</td>\n",
       "      <td>0</td>\n",
       "      <td>1</td>\n",
       "      <td>130</td>\n",
       "      <td>204</td>\n",
       "      <td>0</td>\n",
       "      <td>0</td>\n",
       "      <td>172</td>\n",
       "      <td>0</td>\n",
       "      <td>1.4</td>\n",
       "      <td>2</td>\n",
       "      <td>0</td>\n",
       "      <td>2</td>\n",
       "      <td>1</td>\n",
       "    </tr>\n",
       "    <tr>\n",
       "      <th>3</th>\n",
       "      <td>56</td>\n",
       "      <td>1</td>\n",
       "      <td>1</td>\n",
       "      <td>120</td>\n",
       "      <td>236</td>\n",
       "      <td>0</td>\n",
       "      <td>1</td>\n",
       "      <td>178</td>\n",
       "      <td>0</td>\n",
       "      <td>0.8</td>\n",
       "      <td>2</td>\n",
       "      <td>0</td>\n",
       "      <td>2</td>\n",
       "      <td>1</td>\n",
       "    </tr>\n",
       "    <tr>\n",
       "      <th>4</th>\n",
       "      <td>57</td>\n",
       "      <td>0</td>\n",
       "      <td>0</td>\n",
       "      <td>120</td>\n",
       "      <td>354</td>\n",
       "      <td>0</td>\n",
       "      <td>1</td>\n",
       "      <td>163</td>\n",
       "      <td>1</td>\n",
       "      <td>0.6</td>\n",
       "      <td>2</td>\n",
       "      <td>0</td>\n",
       "      <td>2</td>\n",
       "      <td>1</td>\n",
       "    </tr>\n",
       "  </tbody>\n",
       "</table>\n",
       "</div>"
      ],
      "text/plain": [
       "   age  sex  cp  trestbps  chol  fbs  restecg  thalach  exang  oldpeak  slope  \\\n",
       "0   63    1   3       145   233    1        0      150      0      2.3      0   \n",
       "1   37    1   2       130   250    0        1      187      0      3.5      0   \n",
       "2   41    0   1       130   204    0        0      172      0      1.4      2   \n",
       "3   56    1   1       120   236    0        1      178      0      0.8      2   \n",
       "4   57    0   0       120   354    0        1      163      1      0.6      2   \n",
       "\n",
       "   ca  thal  target  \n",
       "0   0     1       1  \n",
       "1   0     2       1  \n",
       "2   0     2       1  \n",
       "3   0     2       1  \n",
       "4   0     2       1  "
      ]
     },
     "execution_count": 1,
     "metadata": {},
     "output_type": "execute_result"
    }
   ],
   "source": [
    "import pandas as pd\n",
    "df = pd.read_csv(\"Data/Hands-On-Gradient-Boosting-with-XGBoost-and-Scikit-learn/Chapter06/heart_disease.csv\")\n",
    "df.head()"
   ]
  },
  {
   "cell_type": "code",
   "execution_count": 2,
   "id": "c9fca943",
   "metadata": {},
   "outputs": [
    {
     "name": "stdout",
     "output_type": "stream",
     "text": [
      "<class 'pandas.core.frame.DataFrame'>\n",
      "RangeIndex: 303 entries, 0 to 302\n",
      "Data columns (total 14 columns):\n",
      " #   Column    Non-Null Count  Dtype  \n",
      "---  ------    --------------  -----  \n",
      " 0   age       303 non-null    int64  \n",
      " 1   sex       303 non-null    int64  \n",
      " 2   cp        303 non-null    int64  \n",
      " 3   trestbps  303 non-null    int64  \n",
      " 4   chol      303 non-null    int64  \n",
      " 5   fbs       303 non-null    int64  \n",
      " 6   restecg   303 non-null    int64  \n",
      " 7   thalach   303 non-null    int64  \n",
      " 8   exang     303 non-null    int64  \n",
      " 9   oldpeak   303 non-null    float64\n",
      " 10  slope     303 non-null    int64  \n",
      " 11  ca        303 non-null    int64  \n",
      " 12  thal      303 non-null    int64  \n",
      " 13  target    303 non-null    int64  \n",
      "dtypes: float64(1), int64(13)\n",
      "memory usage: 33.3 KB\n"
     ]
    }
   ],
   "source": [
    "df.info()"
   ]
  },
  {
   "cell_type": "code",
   "execution_count": 4,
   "id": "897c9148",
   "metadata": {},
   "outputs": [],
   "source": [
    "from xgboost import XGBClassifier\n",
    "from sklearn.metrics import accuracy_score"
   ]
  },
  {
   "cell_type": "code",
   "execution_count": 5,
   "id": "e0de5ed7",
   "metadata": {},
   "outputs": [],
   "source": [
    "X = df.iloc[:,:-1]\n",
    "y = df.iloc[:,-1]"
   ]
  },
  {
   "cell_type": "code",
   "execution_count": 6,
   "id": "4c63f862",
   "metadata": {},
   "outputs": [],
   "source": [
    "model = XGBClassifier(booster = \"gbtree\", objective = \"binary:logistic\",\n",
    "                     random_state = 2)"
   ]
  },
  {
   "cell_type": "code",
   "execution_count": 7,
   "id": "06b9793a",
   "metadata": {},
   "outputs": [],
   "source": [
    "from sklearn.model_selection import cross_val_score\n",
    "import numpy as np"
   ]
  },
  {
   "cell_type": "code",
   "execution_count": 8,
   "id": "0faaa7d8",
   "metadata": {},
   "outputs": [],
   "source": [
    "scores = cross_val_score(model, X, y, cv = 5)"
   ]
  },
  {
   "cell_type": "code",
   "execution_count": 9,
   "id": "0dcc232d",
   "metadata": {},
   "outputs": [
    {
     "name": "stdout",
     "output_type": "stream",
     "text": [
      "Accuracy :  [0.84 0.85 0.82 0.8  0.77]\n"
     ]
    }
   ],
   "source": [
    "print(\"Accuracy : \", np.round(scores, 2))"
   ]
  },
  {
   "cell_type": "code",
   "execution_count": 10,
   "id": "a46bfe7d",
   "metadata": {},
   "outputs": [
    {
     "name": "stdout",
     "output_type": "stream",
     "text": [
      "Mean Accuracy : 0.815\n"
     ]
    }
   ],
   "source": [
    "print(\"Mean Accuracy : {:.3f}\".format(scores.mean()))"
   ]
  },
  {
   "cell_type": "code",
   "execution_count": 11,
   "id": "7d3ae92b",
   "metadata": {},
   "outputs": [],
   "source": [
    "from sklearn.model_selection import StratifiedKFold"
   ]
  },
  {
   "cell_type": "code",
   "execution_count": 12,
   "id": "b0651a44",
   "metadata": {},
   "outputs": [],
   "source": [
    "kfold = StratifiedKFold(n_splits= 5, shuffle=True, random_state=2)"
   ]
  },
  {
   "cell_type": "code",
   "execution_count": 13,
   "id": "a6299577",
   "metadata": {},
   "outputs": [],
   "source": [
    "scores = cross_val_score(model, X, y, cv= kfold)"
   ]
  },
  {
   "cell_type": "code",
   "execution_count": 14,
   "id": "d25a54de",
   "metadata": {},
   "outputs": [
    {
     "name": "stdout",
     "output_type": "stream",
     "text": [
      "Accuracy :  [0.72 0.82 0.75 0.8  0.82]\n"
     ]
    }
   ],
   "source": [
    "print(\"Accuracy : \", np.round(scores, 2))"
   ]
  },
  {
   "cell_type": "code",
   "execution_count": 15,
   "id": "87fa1b3e",
   "metadata": {},
   "outputs": [
    {
     "name": "stdout",
     "output_type": "stream",
     "text": [
      "Mean Accuracy : 0.782\n"
     ]
    }
   ],
   "source": [
    "print(\"Mean Accuracy : {:.3f}\".format(scores.mean()))"
   ]
  },
  {
   "cell_type": "code",
   "execution_count": 16,
   "id": "8c278a4f",
   "metadata": {},
   "outputs": [],
   "source": [
    "from sklearn.model_selection import GridSearchCV, RandomizedSearchCV"
   ]
  },
  {
   "cell_type": "code",
   "execution_count": 18,
   "id": "a91d8518",
   "metadata": {},
   "outputs": [],
   "source": [
    "def grid_search(params, random = False):\n",
    "    xgb = XGBClassifier(booster = \"gbtree\", objective = \"binary:logistic\",\n",
    "                     random_state = 2)\n",
    "    if random:\n",
    "        grid = RandomizedSearchCV(xgb, params, cv= kfold, n_iter= 20, n_jobs= -1)\n",
    "    else:\n",
    "        grid = GridSearchCV(xgb, params, cv= kfold, n_jobs= - 1)\n",
    "    grid.fit(X, y)\n",
    "    best_params = grid.best_params_\n",
    "    print(\"Best Params : \", best_params)\n",
    "    best_score = grid.best_score_\n",
    "    print(\"Training Score : {:.3f}\".format(best_score))"
   ]
  },
  {
   "cell_type": "code",
   "execution_count": 20,
   "id": "6018cee2",
   "metadata": {},
   "outputs": [
    {
     "name": "stdout",
     "output_type": "stream",
     "text": [
      "Best Params :  {'n_estimators': 100}\n",
      "Training Score : 0.782\n"
     ]
    }
   ],
   "source": [
    "grid_search(params= {\"n_estimators\" : [100, 200, 400, 800]})"
   ]
  },
  {
   "cell_type": "code",
   "execution_count": 21,
   "id": "2092cc07",
   "metadata": {},
   "outputs": [
    {
     "name": "stdout",
     "output_type": "stream",
     "text": [
      "Best Params :  {'learning_rate': 0.05}\n",
      "Training Score : 0.796\n"
     ]
    }
   ],
   "source": [
    "grid_search(params= {'learning_rate': [0.01, 0.05, 0.1, 0.2, 0.3, 0.4, 0.5]})"
   ]
  },
  {
   "cell_type": "code",
   "execution_count": 22,
   "id": "99aaa037",
   "metadata": {},
   "outputs": [
    {
     "name": "stdout",
     "output_type": "stream",
     "text": [
      "Best Params :  {'max_depth': 2}\n",
      "Training Score : 0.799\n"
     ]
    }
   ],
   "source": [
    "grid_search(params= {'max_depth' : [2,3,5,6,8]})"
   ]
  },
  {
   "cell_type": "code",
   "execution_count": 23,
   "id": "997c8e5d",
   "metadata": {},
   "outputs": [
    {
     "name": "stdout",
     "output_type": "stream",
     "text": [
      "Best Params :  {'gamma': 0.5}\n",
      "Training Score : 0.796\n"
     ]
    }
   ],
   "source": [
    "grid_search(params= {'gamma' : [0, 0.1, 0.5, 1, 2, 5]})"
   ]
  },
  {
   "cell_type": "code",
   "execution_count": 24,
   "id": "1b9964b1",
   "metadata": {},
   "outputs": [
    {
     "name": "stdout",
     "output_type": "stream",
     "text": [
      "Best Params :  {'min_child_weight': 5}\n",
      "Training Score : 0.812\n"
     ]
    }
   ],
   "source": [
    "grid_search(params= {'min_child_weight': [1, 2, 3, 4, 5]})"
   ]
  },
  {
   "cell_type": "code",
   "execution_count": 25,
   "id": "e9a2d15c",
   "metadata": {},
   "outputs": [
    {
     "name": "stdout",
     "output_type": "stream",
     "text": [
      "Best Params :  {'subsample': 0.8}\n",
      "Training Score : 0.796\n"
     ]
    }
   ],
   "source": [
    "grid_search(params= {'subsample': [0.5, 0.7, 0.8, 0.9, 1]})"
   ]
  },
  {
   "cell_type": "code",
   "execution_count": 26,
   "id": "ae888da8",
   "metadata": {},
   "outputs": [
    {
     "name": "stdout",
     "output_type": "stream",
     "text": [
      "Best Params :  {'colsample_bytree': 0.9}\n",
      "Training Score : 0.799\n"
     ]
    }
   ],
   "source": [
    "grid_search(params= {'colsample_bytree': [0.5, 0.7, 0.8, 0.9, 1]})"
   ]
  },
  {
   "cell_type": "markdown",
   "id": "4997b255",
   "metadata": {},
   "source": [
    "## Early Stopping"
   ]
  },
  {
   "cell_type": "code",
   "execution_count": 27,
   "id": "72d55a06",
   "metadata": {},
   "outputs": [],
   "source": [
    "from sklearn.model_selection import train_test_split"
   ]
  },
  {
   "cell_type": "code",
   "execution_count": 28,
   "id": "93ea1c23",
   "metadata": {},
   "outputs": [],
   "source": [
    "X_train, X_test, y_train, y_test = train_test_split(X, y, random_state= 2)"
   ]
  },
  {
   "cell_type": "code",
   "execution_count": 29,
   "id": "0a9c2887",
   "metadata": {},
   "outputs": [],
   "source": [
    "model = XGBClassifier(booster = \"gbtree\", objective = \"binary:logistic\", random_state = 2)"
   ]
  },
  {
   "cell_type": "code",
   "execution_count": 30,
   "id": "749b813a",
   "metadata": {},
   "outputs": [],
   "source": [
    "eval_set = [(X_test, y_test)]"
   ]
  },
  {
   "cell_type": "code",
   "execution_count": 31,
   "id": "31423573",
   "metadata": {},
   "outputs": [],
   "source": [
    "eval_metric = 'error'"
   ]
  },
  {
   "cell_type": "code",
   "execution_count": 32,
   "id": "23b3136f",
   "metadata": {},
   "outputs": [
    {
     "name": "stderr",
     "output_type": "stream",
     "text": [
      "D:\\xgb\\lib\\site-packages\\xgboost\\sklearn.py:793: UserWarning: `eval_metric` in `fit` method is deprecated for better compatibility with scikit-learn, use `eval_metric` in constructor or`set_params` instead.\n",
      "  warnings.warn(\n"
     ]
    },
    {
     "name": "stdout",
     "output_type": "stream",
     "text": [
      "[0]\tvalidation_0-error:0.15789\n",
      "[1]\tvalidation_0-error:0.10526\n",
      "[2]\tvalidation_0-error:0.11842\n",
      "[3]\tvalidation_0-error:0.13158\n",
      "[4]\tvalidation_0-error:0.11842\n",
      "[5]\tvalidation_0-error:0.14474\n",
      "[6]\tvalidation_0-error:0.14474\n",
      "[7]\tvalidation_0-error:0.14474\n",
      "[8]\tvalidation_0-error:0.14474\n",
      "[9]\tvalidation_0-error:0.14474\n",
      "[10]\tvalidation_0-error:0.14474\n",
      "[11]\tvalidation_0-error:0.15789\n",
      "[12]\tvalidation_0-error:0.15789\n",
      "[13]\tvalidation_0-error:0.17105\n",
      "[14]\tvalidation_0-error:0.17105\n",
      "[15]\tvalidation_0-error:0.17105\n",
      "[16]\tvalidation_0-error:0.15789\n",
      "[17]\tvalidation_0-error:0.17105\n",
      "[18]\tvalidation_0-error:0.15789\n",
      "[19]\tvalidation_0-error:0.17105\n",
      "[20]\tvalidation_0-error:0.17105\n",
      "[21]\tvalidation_0-error:0.17105\n",
      "[22]\tvalidation_0-error:0.18421\n",
      "[23]\tvalidation_0-error:0.18421\n",
      "[24]\tvalidation_0-error:0.17105\n",
      "[25]\tvalidation_0-error:0.18421\n",
      "[26]\tvalidation_0-error:0.18421\n",
      "[27]\tvalidation_0-error:0.18421\n",
      "[28]\tvalidation_0-error:0.18421\n",
      "[29]\tvalidation_0-error:0.18421\n",
      "[30]\tvalidation_0-error:0.18421\n",
      "[31]\tvalidation_0-error:0.18421\n",
      "[32]\tvalidation_0-error:0.18421\n",
      "[33]\tvalidation_0-error:0.18421\n",
      "[34]\tvalidation_0-error:0.18421\n",
      "[35]\tvalidation_0-error:0.18421\n",
      "[36]\tvalidation_0-error:0.18421\n",
      "[37]\tvalidation_0-error:0.18421\n",
      "[38]\tvalidation_0-error:0.18421\n",
      "[39]\tvalidation_0-error:0.18421\n",
      "[40]\tvalidation_0-error:0.18421\n",
      "[41]\tvalidation_0-error:0.18421\n",
      "[42]\tvalidation_0-error:0.18421\n",
      "[43]\tvalidation_0-error:0.17105\n",
      "[44]\tvalidation_0-error:0.18421\n",
      "[45]\tvalidation_0-error:0.17105\n",
      "[46]\tvalidation_0-error:0.18421\n",
      "[47]\tvalidation_0-error:0.18421\n",
      "[48]\tvalidation_0-error:0.17105\n",
      "[49]\tvalidation_0-error:0.15789\n",
      "[50]\tvalidation_0-error:0.17105\n",
      "[51]\tvalidation_0-error:0.17105\n",
      "[52]\tvalidation_0-error:0.15789\n",
      "[53]\tvalidation_0-error:0.17105\n",
      "[54]\tvalidation_0-error:0.17105\n",
      "[55]\tvalidation_0-error:0.17105\n",
      "[56]\tvalidation_0-error:0.17105\n",
      "[57]\tvalidation_0-error:0.17105\n",
      "[58]\tvalidation_0-error:0.17105\n",
      "[59]\tvalidation_0-error:0.17105\n",
      "[60]\tvalidation_0-error:0.17105\n",
      "[61]\tvalidation_0-error:0.17105\n",
      "[62]\tvalidation_0-error:0.17105\n",
      "[63]\tvalidation_0-error:0.17105\n",
      "[64]\tvalidation_0-error:0.17105\n",
      "[65]\tvalidation_0-error:0.17105\n",
      "[66]\tvalidation_0-error:0.18421\n",
      "[67]\tvalidation_0-error:0.18421\n",
      "[68]\tvalidation_0-error:0.18421\n",
      "[69]\tvalidation_0-error:0.18421\n",
      "[70]\tvalidation_0-error:0.18421\n",
      "[71]\tvalidation_0-error:0.18421\n",
      "[72]\tvalidation_0-error:0.18421\n",
      "[73]\tvalidation_0-error:0.18421\n",
      "[74]\tvalidation_0-error:0.17105\n",
      "[75]\tvalidation_0-error:0.18421\n",
      "[76]\tvalidation_0-error:0.17105\n",
      "[77]\tvalidation_0-error:0.18421\n",
      "[78]\tvalidation_0-error:0.15789\n",
      "[79]\tvalidation_0-error:0.17105\n",
      "[80]\tvalidation_0-error:0.15789\n",
      "[81]\tvalidation_0-error:0.15789\n",
      "[82]\tvalidation_0-error:0.15789\n",
      "[83]\tvalidation_0-error:0.15789\n",
      "[84]\tvalidation_0-error:0.15789\n",
      "[85]\tvalidation_0-error:0.15789\n",
      "[86]\tvalidation_0-error:0.15789\n",
      "[87]\tvalidation_0-error:0.15789\n",
      "[88]\tvalidation_0-error:0.15789\n",
      "[89]\tvalidation_0-error:0.15789\n",
      "[90]\tvalidation_0-error:0.15789\n",
      "[91]\tvalidation_0-error:0.15789\n",
      "[92]\tvalidation_0-error:0.15789\n",
      "[93]\tvalidation_0-error:0.17105\n",
      "[94]\tvalidation_0-error:0.17105\n",
      "[95]\tvalidation_0-error:0.17105\n",
      "[96]\tvalidation_0-error:0.17105\n",
      "[97]\tvalidation_0-error:0.17105\n",
      "[98]\tvalidation_0-error:0.17105\n",
      "[99]\tvalidation_0-error:0.17105\n"
     ]
    },
    {
     "data": {
      "text/html": [
       "<style>#sk-container-id-1 {color: black;background-color: white;}#sk-container-id-1 pre{padding: 0;}#sk-container-id-1 div.sk-toggleable {background-color: white;}#sk-container-id-1 label.sk-toggleable__label {cursor: pointer;display: block;width: 100%;margin-bottom: 0;padding: 0.3em;box-sizing: border-box;text-align: center;}#sk-container-id-1 label.sk-toggleable__label-arrow:before {content: \"▸\";float: left;margin-right: 0.25em;color: #696969;}#sk-container-id-1 label.sk-toggleable__label-arrow:hover:before {color: black;}#sk-container-id-1 div.sk-estimator:hover label.sk-toggleable__label-arrow:before {color: black;}#sk-container-id-1 div.sk-toggleable__content {max-height: 0;max-width: 0;overflow: hidden;text-align: left;background-color: #f0f8ff;}#sk-container-id-1 div.sk-toggleable__content pre {margin: 0.2em;color: black;border-radius: 0.25em;background-color: #f0f8ff;}#sk-container-id-1 input.sk-toggleable__control:checked~div.sk-toggleable__content {max-height: 200px;max-width: 100%;overflow: auto;}#sk-container-id-1 input.sk-toggleable__control:checked~label.sk-toggleable__label-arrow:before {content: \"▾\";}#sk-container-id-1 div.sk-estimator input.sk-toggleable__control:checked~label.sk-toggleable__label {background-color: #d4ebff;}#sk-container-id-1 div.sk-label input.sk-toggleable__control:checked~label.sk-toggleable__label {background-color: #d4ebff;}#sk-container-id-1 input.sk-hidden--visually {border: 0;clip: rect(1px 1px 1px 1px);clip: rect(1px, 1px, 1px, 1px);height: 1px;margin: -1px;overflow: hidden;padding: 0;position: absolute;width: 1px;}#sk-container-id-1 div.sk-estimator {font-family: monospace;background-color: #f0f8ff;border: 1px dotted black;border-radius: 0.25em;box-sizing: border-box;margin-bottom: 0.5em;}#sk-container-id-1 div.sk-estimator:hover {background-color: #d4ebff;}#sk-container-id-1 div.sk-parallel-item::after {content: \"\";width: 100%;border-bottom: 1px solid gray;flex-grow: 1;}#sk-container-id-1 div.sk-label:hover label.sk-toggleable__label {background-color: #d4ebff;}#sk-container-id-1 div.sk-serial::before {content: \"\";position: absolute;border-left: 1px solid gray;box-sizing: border-box;top: 0;bottom: 0;left: 50%;z-index: 0;}#sk-container-id-1 div.sk-serial {display: flex;flex-direction: column;align-items: center;background-color: white;padding-right: 0.2em;padding-left: 0.2em;position: relative;}#sk-container-id-1 div.sk-item {position: relative;z-index: 1;}#sk-container-id-1 div.sk-parallel {display: flex;align-items: stretch;justify-content: center;background-color: white;position: relative;}#sk-container-id-1 div.sk-item::before, #sk-container-id-1 div.sk-parallel-item::before {content: \"\";position: absolute;border-left: 1px solid gray;box-sizing: border-box;top: 0;bottom: 0;left: 50%;z-index: -1;}#sk-container-id-1 div.sk-parallel-item {display: flex;flex-direction: column;z-index: 1;position: relative;background-color: white;}#sk-container-id-1 div.sk-parallel-item:first-child::after {align-self: flex-end;width: 50%;}#sk-container-id-1 div.sk-parallel-item:last-child::after {align-self: flex-start;width: 50%;}#sk-container-id-1 div.sk-parallel-item:only-child::after {width: 0;}#sk-container-id-1 div.sk-dashed-wrapped {border: 1px dashed gray;margin: 0 0.4em 0.5em 0.4em;box-sizing: border-box;padding-bottom: 0.4em;background-color: white;}#sk-container-id-1 div.sk-label label {font-family: monospace;font-weight: bold;display: inline-block;line-height: 1.2em;}#sk-container-id-1 div.sk-label-container {text-align: center;}#sk-container-id-1 div.sk-container {/* jupyter's `normalize.less` sets `[hidden] { display: none; }` but bootstrap.min.css set `[hidden] { display: none !important; }` so we also need the `!important` here to be able to override the default hidden behavior on the sphinx rendered scikit-learn.org. See: https://github.com/scikit-learn/scikit-learn/issues/21755 */display: inline-block !important;position: relative;}#sk-container-id-1 div.sk-text-repr-fallback {display: none;}</style><div id=\"sk-container-id-1\" class=\"sk-top-container\"><div class=\"sk-text-repr-fallback\"><pre>XGBClassifier(base_score=0.5, booster=&#x27;gbtree&#x27;, callbacks=None,\n",
       "              colsample_bylevel=1, colsample_bynode=1, colsample_bytree=1,\n",
       "              early_stopping_rounds=None, enable_categorical=False,\n",
       "              eval_metric=None, gamma=0, gpu_id=-1, grow_policy=&#x27;depthwise&#x27;,\n",
       "              importance_type=None, interaction_constraints=&#x27;&#x27;,\n",
       "              learning_rate=0.300000012, max_bin=256, max_cat_to_onehot=4,\n",
       "              max_delta_step=0, max_depth=6, max_leaves=0, min_child_weight=1,\n",
       "              missing=nan, monotone_constraints=&#x27;()&#x27;, n_estimators=100,\n",
       "              n_jobs=0, num_parallel_tree=1, predictor=&#x27;auto&#x27;, random_state=2,\n",
       "              reg_alpha=0, reg_lambda=1, ...)</pre><b>In a Jupyter environment, please rerun this cell to show the HTML representation or trust the notebook. <br />On GitHub, the HTML representation is unable to render, please try loading this page with nbviewer.org.</b></div><div class=\"sk-container\" hidden><div class=\"sk-item\"><div class=\"sk-estimator sk-toggleable\"><input class=\"sk-toggleable__control sk-hidden--visually\" id=\"sk-estimator-id-1\" type=\"checkbox\" checked><label for=\"sk-estimator-id-1\" class=\"sk-toggleable__label sk-toggleable__label-arrow\">XGBClassifier</label><div class=\"sk-toggleable__content\"><pre>XGBClassifier(base_score=0.5, booster=&#x27;gbtree&#x27;, callbacks=None,\n",
       "              colsample_bylevel=1, colsample_bynode=1, colsample_bytree=1,\n",
       "              early_stopping_rounds=None, enable_categorical=False,\n",
       "              eval_metric=None, gamma=0, gpu_id=-1, grow_policy=&#x27;depthwise&#x27;,\n",
       "              importance_type=None, interaction_constraints=&#x27;&#x27;,\n",
       "              learning_rate=0.300000012, max_bin=256, max_cat_to_onehot=4,\n",
       "              max_delta_step=0, max_depth=6, max_leaves=0, min_child_weight=1,\n",
       "              missing=nan, monotone_constraints=&#x27;()&#x27;, n_estimators=100,\n",
       "              n_jobs=0, num_parallel_tree=1, predictor=&#x27;auto&#x27;, random_state=2,\n",
       "              reg_alpha=0, reg_lambda=1, ...)</pre></div></div></div></div></div>"
      ],
      "text/plain": [
       "XGBClassifier(base_score=0.5, booster='gbtree', callbacks=None,\n",
       "              colsample_bylevel=1, colsample_bynode=1, colsample_bytree=1,\n",
       "              early_stopping_rounds=None, enable_categorical=False,\n",
       "              eval_metric=None, gamma=0, gpu_id=-1, grow_policy='depthwise',\n",
       "              importance_type=None, interaction_constraints='',\n",
       "              learning_rate=0.300000012, max_bin=256, max_cat_to_onehot=4,\n",
       "              max_delta_step=0, max_depth=6, max_leaves=0, min_child_weight=1,\n",
       "              missing=nan, monotone_constraints='()', n_estimators=100,\n",
       "              n_jobs=0, num_parallel_tree=1, predictor='auto', random_state=2,\n",
       "              reg_alpha=0, reg_lambda=1, ...)"
      ]
     },
     "execution_count": 32,
     "metadata": {},
     "output_type": "execute_result"
    }
   ],
   "source": [
    "model.fit(X_train, y_train, eval_metric= eval_metric, eval_set= eval_set)"
   ]
  },
  {
   "cell_type": "code",
   "execution_count": 33,
   "id": "ffb62570",
   "metadata": {},
   "outputs": [],
   "source": [
    "y_pred = model.predict(X_test)"
   ]
  },
  {
   "cell_type": "code",
   "execution_count": 34,
   "id": "1530baf6",
   "metadata": {},
   "outputs": [],
   "source": [
    "accuracy = accuracy_score(y_test, y_pred)"
   ]
  },
  {
   "cell_type": "code",
   "execution_count": 35,
   "id": "3a8ff402",
   "metadata": {},
   "outputs": [
    {
     "name": "stdout",
     "output_type": "stream",
     "text": [
      "Accuracy : 0.829\n"
     ]
    }
   ],
   "source": [
    "print(\"Accuracy : {:.3f}\".format(accuracy))"
   ]
  },
  {
   "cell_type": "code",
   "execution_count": 36,
   "id": "b35e9728",
   "metadata": {},
   "outputs": [
    {
     "name": "stdout",
     "output_type": "stream",
     "text": [
      "[0]\tvalidation_0-error:0.15789\n",
      "[1]\tvalidation_0-error:0.10526\n",
      "[2]\tvalidation_0-error:0.11842\n",
      "[3]\tvalidation_0-error:0.13158\n",
      "[4]\tvalidation_0-error:0.11842\n",
      "[5]\tvalidation_0-error:0.14474\n",
      "[6]\tvalidation_0-error:0.14474\n",
      "[7]\tvalidation_0-error:0.14474\n",
      "[8]\tvalidation_0-error:0.14474\n",
      "[9]\tvalidation_0-error:0.14474\n",
      "[10]\tvalidation_0-error:0.14474\n"
     ]
    },
    {
     "name": "stderr",
     "output_type": "stream",
     "text": [
      "D:\\xgb\\lib\\site-packages\\xgboost\\sklearn.py:793: UserWarning: `eval_metric` in `fit` method is deprecated for better compatibility with scikit-learn, use `eval_metric` in constructor or`set_params` instead.\n",
      "  warnings.warn(\n",
      "D:\\xgb\\lib\\site-packages\\xgboost\\sklearn.py:793: UserWarning: `early_stopping_rounds` in `fit` method is deprecated for better compatibility with scikit-learn, use `early_stopping_rounds` in constructor or`set_params` instead.\n",
      "  warnings.warn(\n"
     ]
    },
    {
     "data": {
      "text/html": [
       "<style>#sk-container-id-2 {color: black;background-color: white;}#sk-container-id-2 pre{padding: 0;}#sk-container-id-2 div.sk-toggleable {background-color: white;}#sk-container-id-2 label.sk-toggleable__label {cursor: pointer;display: block;width: 100%;margin-bottom: 0;padding: 0.3em;box-sizing: border-box;text-align: center;}#sk-container-id-2 label.sk-toggleable__label-arrow:before {content: \"▸\";float: left;margin-right: 0.25em;color: #696969;}#sk-container-id-2 label.sk-toggleable__label-arrow:hover:before {color: black;}#sk-container-id-2 div.sk-estimator:hover label.sk-toggleable__label-arrow:before {color: black;}#sk-container-id-2 div.sk-toggleable__content {max-height: 0;max-width: 0;overflow: hidden;text-align: left;background-color: #f0f8ff;}#sk-container-id-2 div.sk-toggleable__content pre {margin: 0.2em;color: black;border-radius: 0.25em;background-color: #f0f8ff;}#sk-container-id-2 input.sk-toggleable__control:checked~div.sk-toggleable__content {max-height: 200px;max-width: 100%;overflow: auto;}#sk-container-id-2 input.sk-toggleable__control:checked~label.sk-toggleable__label-arrow:before {content: \"▾\";}#sk-container-id-2 div.sk-estimator input.sk-toggleable__control:checked~label.sk-toggleable__label {background-color: #d4ebff;}#sk-container-id-2 div.sk-label input.sk-toggleable__control:checked~label.sk-toggleable__label {background-color: #d4ebff;}#sk-container-id-2 input.sk-hidden--visually {border: 0;clip: rect(1px 1px 1px 1px);clip: rect(1px, 1px, 1px, 1px);height: 1px;margin: -1px;overflow: hidden;padding: 0;position: absolute;width: 1px;}#sk-container-id-2 div.sk-estimator {font-family: monospace;background-color: #f0f8ff;border: 1px dotted black;border-radius: 0.25em;box-sizing: border-box;margin-bottom: 0.5em;}#sk-container-id-2 div.sk-estimator:hover {background-color: #d4ebff;}#sk-container-id-2 div.sk-parallel-item::after {content: \"\";width: 100%;border-bottom: 1px solid gray;flex-grow: 1;}#sk-container-id-2 div.sk-label:hover label.sk-toggleable__label {background-color: #d4ebff;}#sk-container-id-2 div.sk-serial::before {content: \"\";position: absolute;border-left: 1px solid gray;box-sizing: border-box;top: 0;bottom: 0;left: 50%;z-index: 0;}#sk-container-id-2 div.sk-serial {display: flex;flex-direction: column;align-items: center;background-color: white;padding-right: 0.2em;padding-left: 0.2em;position: relative;}#sk-container-id-2 div.sk-item {position: relative;z-index: 1;}#sk-container-id-2 div.sk-parallel {display: flex;align-items: stretch;justify-content: center;background-color: white;position: relative;}#sk-container-id-2 div.sk-item::before, #sk-container-id-2 div.sk-parallel-item::before {content: \"\";position: absolute;border-left: 1px solid gray;box-sizing: border-box;top: 0;bottom: 0;left: 50%;z-index: -1;}#sk-container-id-2 div.sk-parallel-item {display: flex;flex-direction: column;z-index: 1;position: relative;background-color: white;}#sk-container-id-2 div.sk-parallel-item:first-child::after {align-self: flex-end;width: 50%;}#sk-container-id-2 div.sk-parallel-item:last-child::after {align-self: flex-start;width: 50%;}#sk-container-id-2 div.sk-parallel-item:only-child::after {width: 0;}#sk-container-id-2 div.sk-dashed-wrapped {border: 1px dashed gray;margin: 0 0.4em 0.5em 0.4em;box-sizing: border-box;padding-bottom: 0.4em;background-color: white;}#sk-container-id-2 div.sk-label label {font-family: monospace;font-weight: bold;display: inline-block;line-height: 1.2em;}#sk-container-id-2 div.sk-label-container {text-align: center;}#sk-container-id-2 div.sk-container {/* jupyter's `normalize.less` sets `[hidden] { display: none; }` but bootstrap.min.css set `[hidden] { display: none !important; }` so we also need the `!important` here to be able to override the default hidden behavior on the sphinx rendered scikit-learn.org. See: https://github.com/scikit-learn/scikit-learn/issues/21755 */display: inline-block !important;position: relative;}#sk-container-id-2 div.sk-text-repr-fallback {display: none;}</style><div id=\"sk-container-id-2\" class=\"sk-top-container\"><div class=\"sk-text-repr-fallback\"><pre>XGBClassifier(base_score=0.5, booster=&#x27;gbtree&#x27;, callbacks=None,\n",
       "              colsample_bylevel=1, colsample_bynode=1, colsample_bytree=1,\n",
       "              early_stopping_rounds=None, enable_categorical=False,\n",
       "              eval_metric=None, gamma=0, gpu_id=-1, grow_policy=&#x27;depthwise&#x27;,\n",
       "              importance_type=None, interaction_constraints=&#x27;&#x27;,\n",
       "              learning_rate=0.300000012, max_bin=256, max_cat_to_onehot=4,\n",
       "              max_delta_step=0, max_depth=6, max_leaves=0, min_child_weight=1,\n",
       "              missing=nan, monotone_constraints=&#x27;()&#x27;, n_estimators=100,\n",
       "              n_jobs=0, num_parallel_tree=1, predictor=&#x27;auto&#x27;, random_state=2,\n",
       "              reg_alpha=0, reg_lambda=1, ...)</pre><b>In a Jupyter environment, please rerun this cell to show the HTML representation or trust the notebook. <br />On GitHub, the HTML representation is unable to render, please try loading this page with nbviewer.org.</b></div><div class=\"sk-container\" hidden><div class=\"sk-item\"><div class=\"sk-estimator sk-toggleable\"><input class=\"sk-toggleable__control sk-hidden--visually\" id=\"sk-estimator-id-2\" type=\"checkbox\" checked><label for=\"sk-estimator-id-2\" class=\"sk-toggleable__label sk-toggleable__label-arrow\">XGBClassifier</label><div class=\"sk-toggleable__content\"><pre>XGBClassifier(base_score=0.5, booster=&#x27;gbtree&#x27;, callbacks=None,\n",
       "              colsample_bylevel=1, colsample_bynode=1, colsample_bytree=1,\n",
       "              early_stopping_rounds=None, enable_categorical=False,\n",
       "              eval_metric=None, gamma=0, gpu_id=-1, grow_policy=&#x27;depthwise&#x27;,\n",
       "              importance_type=None, interaction_constraints=&#x27;&#x27;,\n",
       "              learning_rate=0.300000012, max_bin=256, max_cat_to_onehot=4,\n",
       "              max_delta_step=0, max_depth=6, max_leaves=0, min_child_weight=1,\n",
       "              missing=nan, monotone_constraints=&#x27;()&#x27;, n_estimators=100,\n",
       "              n_jobs=0, num_parallel_tree=1, predictor=&#x27;auto&#x27;, random_state=2,\n",
       "              reg_alpha=0, reg_lambda=1, ...)</pre></div></div></div></div></div>"
      ],
      "text/plain": [
       "XGBClassifier(base_score=0.5, booster='gbtree', callbacks=None,\n",
       "              colsample_bylevel=1, colsample_bynode=1, colsample_bytree=1,\n",
       "              early_stopping_rounds=None, enable_categorical=False,\n",
       "              eval_metric=None, gamma=0, gpu_id=-1, grow_policy='depthwise',\n",
       "              importance_type=None, interaction_constraints='',\n",
       "              learning_rate=0.300000012, max_bin=256, max_cat_to_onehot=4,\n",
       "              max_delta_step=0, max_depth=6, max_leaves=0, min_child_weight=1,\n",
       "              missing=nan, monotone_constraints='()', n_estimators=100,\n",
       "              n_jobs=0, num_parallel_tree=1, predictor='auto', random_state=2,\n",
       "              reg_alpha=0, reg_lambda=1, ...)"
      ]
     },
     "execution_count": 36,
     "metadata": {},
     "output_type": "execute_result"
    }
   ],
   "source": [
    "model = XGBClassifier(booster = \"gbtree\", objective = \"binary:logistic\", random_state = 2)\n",
    "eval_set = [(X_test, y_test)]\n",
    "eval_metric = 'error'\n",
    "model.fit(X_train, y_train, eval_metric= eval_metric, eval_set= eval_set, early_stopping_rounds= 10, verbose= True)"
   ]
  },
  {
   "cell_type": "code",
   "execution_count": 37,
   "id": "5845afb4",
   "metadata": {},
   "outputs": [
    {
     "name": "stdout",
     "output_type": "stream",
     "text": [
      "Accuracy : 0.895\n"
     ]
    }
   ],
   "source": [
    "y_pred = model.predict(X_test)\n",
    "accuracy = accuracy_score(y_test, y_pred)\n",
    "print(\"Accuracy : {:.3f}\".format(accuracy))"
   ]
  },
  {
   "cell_type": "code",
   "execution_count": 38,
   "id": "eba0ca20",
   "metadata": {},
   "outputs": [
    {
     "name": "stdout",
     "output_type": "stream",
     "text": [
      "[0]\tvalidation_0-error:0.15789\n",
      "[1]\tvalidation_0-error:0.10526\n",
      "[2]\tvalidation_0-error:0.11842\n",
      "[3]\tvalidation_0-error:0.13158\n",
      "[4]\tvalidation_0-error:0.11842\n",
      "[5]\tvalidation_0-error:0.14474\n",
      "[6]\tvalidation_0-error:0.14474\n",
      "[7]\tvalidation_0-error:0.14474\n",
      "[8]\tvalidation_0-error:0.14474\n",
      "[9]\tvalidation_0-error:0.14474\n",
      "[10]\tvalidation_0-error:0.14474\n",
      "[11]\tvalidation_0-error:0.15789\n",
      "[12]\tvalidation_0-error:0.15789\n",
      "[13]\tvalidation_0-error:0.17105\n",
      "[14]\tvalidation_0-error:0.17105\n",
      "[15]\tvalidation_0-error:0.17105\n",
      "[16]\tvalidation_0-error:0.15789\n",
      "[17]\tvalidation_0-error:0.17105\n",
      "[18]\tvalidation_0-error:0.15789\n",
      "[19]\tvalidation_0-error:0.17105\n",
      "[20]\tvalidation_0-error:0.17105\n",
      "[21]\tvalidation_0-error:0.17105\n",
      "[22]\tvalidation_0-error:0.18421\n",
      "[23]\tvalidation_0-error:0.18421\n",
      "[24]\tvalidation_0-error:0.17105\n",
      "[25]\tvalidation_0-error:0.18421\n",
      "[26]\tvalidation_0-error:0.18421\n",
      "[27]\tvalidation_0-error:0.18421\n",
      "[28]\tvalidation_0-error:0.18421\n",
      "[29]\tvalidation_0-error:0.18421\n",
      "[30]\tvalidation_0-error:0.18421\n",
      "[31]\tvalidation_0-error:0.18421\n",
      "[32]\tvalidation_0-error:0.18421\n",
      "[33]\tvalidation_0-error:0.18421\n",
      "[34]\tvalidation_0-error:0.18421\n",
      "[35]\tvalidation_0-error:0.18421\n",
      "[36]\tvalidation_0-error:0.18421\n",
      "[37]\tvalidation_0-error:0.18421\n",
      "[38]\tvalidation_0-error:0.18421\n",
      "[39]\tvalidation_0-error:0.18421\n",
      "[40]\tvalidation_0-error:0.18421\n",
      "[41]\tvalidation_0-error:0.18421\n",
      "[42]\tvalidation_0-error:0.18421\n",
      "[43]\tvalidation_0-error:0.17105\n",
      "[44]\tvalidation_0-error:0.18421\n"
     ]
    },
    {
     "name": "stderr",
     "output_type": "stream",
     "text": [
      "D:\\xgb\\lib\\site-packages\\xgboost\\sklearn.py:793: UserWarning: `eval_metric` in `fit` method is deprecated for better compatibility with scikit-learn, use `eval_metric` in constructor or`set_params` instead.\n",
      "  warnings.warn(\n",
      "D:\\xgb\\lib\\site-packages\\xgboost\\sklearn.py:793: UserWarning: `early_stopping_rounds` in `fit` method is deprecated for better compatibility with scikit-learn, use `early_stopping_rounds` in constructor or`set_params` instead.\n",
      "  warnings.warn(\n"
     ]
    },
    {
     "name": "stdout",
     "output_type": "stream",
     "text": [
      "[45]\tvalidation_0-error:0.17105\n",
      "[46]\tvalidation_0-error:0.18421\n",
      "[47]\tvalidation_0-error:0.18421\n",
      "[48]\tvalidation_0-error:0.17105\n",
      "[49]\tvalidation_0-error:0.15789\n",
      "[50]\tvalidation_0-error:0.17105\n",
      "[51]\tvalidation_0-error:0.17105\n",
      "[52]\tvalidation_0-error:0.15789\n",
      "[53]\tvalidation_0-error:0.17105\n",
      "[54]\tvalidation_0-error:0.17105\n",
      "[55]\tvalidation_0-error:0.17105\n",
      "[56]\tvalidation_0-error:0.17105\n",
      "[57]\tvalidation_0-error:0.17105\n",
      "[58]\tvalidation_0-error:0.17105\n",
      "[59]\tvalidation_0-error:0.17105\n",
      "[60]\tvalidation_0-error:0.17105\n",
      "[61]\tvalidation_0-error:0.17105\n",
      "[62]\tvalidation_0-error:0.17105\n",
      "[63]\tvalidation_0-error:0.17105\n",
      "[64]\tvalidation_0-error:0.17105\n",
      "[65]\tvalidation_0-error:0.17105\n",
      "[66]\tvalidation_0-error:0.18421\n",
      "[67]\tvalidation_0-error:0.18421\n",
      "[68]\tvalidation_0-error:0.18421\n",
      "[69]\tvalidation_0-error:0.18421\n",
      "[70]\tvalidation_0-error:0.18421\n",
      "[71]\tvalidation_0-error:0.18421\n",
      "[72]\tvalidation_0-error:0.18421\n",
      "[73]\tvalidation_0-error:0.18421\n",
      "[74]\tvalidation_0-error:0.17105\n",
      "[75]\tvalidation_0-error:0.18421\n",
      "[76]\tvalidation_0-error:0.17105\n",
      "[77]\tvalidation_0-error:0.18421\n",
      "[78]\tvalidation_0-error:0.15789\n",
      "[79]\tvalidation_0-error:0.17105\n",
      "[80]\tvalidation_0-error:0.15789\n",
      "[81]\tvalidation_0-error:0.15789\n",
      "[82]\tvalidation_0-error:0.15789\n",
      "[83]\tvalidation_0-error:0.15789\n",
      "[84]\tvalidation_0-error:0.15789\n",
      "[85]\tvalidation_0-error:0.15789\n",
      "[86]\tvalidation_0-error:0.15789\n",
      "[87]\tvalidation_0-error:0.15789\n",
      "[88]\tvalidation_0-error:0.15789\n",
      "[89]\tvalidation_0-error:0.15789\n",
      "[90]\tvalidation_0-error:0.15789\n",
      "[91]\tvalidation_0-error:0.15789\n",
      "[92]\tvalidation_0-error:0.15789\n",
      "[93]\tvalidation_0-error:0.17105\n",
      "[94]\tvalidation_0-error:0.17105\n",
      "[95]\tvalidation_0-error:0.17105\n",
      "[96]\tvalidation_0-error:0.17105\n",
      "[97]\tvalidation_0-error:0.17105\n",
      "[98]\tvalidation_0-error:0.17105\n",
      "[99]\tvalidation_0-error:0.17105\n",
      "[100]\tvalidation_0-error:0.17105\n"
     ]
    },
    {
     "data": {
      "text/html": [
       "<style>#sk-container-id-3 {color: black;background-color: white;}#sk-container-id-3 pre{padding: 0;}#sk-container-id-3 div.sk-toggleable {background-color: white;}#sk-container-id-3 label.sk-toggleable__label {cursor: pointer;display: block;width: 100%;margin-bottom: 0;padding: 0.3em;box-sizing: border-box;text-align: center;}#sk-container-id-3 label.sk-toggleable__label-arrow:before {content: \"▸\";float: left;margin-right: 0.25em;color: #696969;}#sk-container-id-3 label.sk-toggleable__label-arrow:hover:before {color: black;}#sk-container-id-3 div.sk-estimator:hover label.sk-toggleable__label-arrow:before {color: black;}#sk-container-id-3 div.sk-toggleable__content {max-height: 0;max-width: 0;overflow: hidden;text-align: left;background-color: #f0f8ff;}#sk-container-id-3 div.sk-toggleable__content pre {margin: 0.2em;color: black;border-radius: 0.25em;background-color: #f0f8ff;}#sk-container-id-3 input.sk-toggleable__control:checked~div.sk-toggleable__content {max-height: 200px;max-width: 100%;overflow: auto;}#sk-container-id-3 input.sk-toggleable__control:checked~label.sk-toggleable__label-arrow:before {content: \"▾\";}#sk-container-id-3 div.sk-estimator input.sk-toggleable__control:checked~label.sk-toggleable__label {background-color: #d4ebff;}#sk-container-id-3 div.sk-label input.sk-toggleable__control:checked~label.sk-toggleable__label {background-color: #d4ebff;}#sk-container-id-3 input.sk-hidden--visually {border: 0;clip: rect(1px 1px 1px 1px);clip: rect(1px, 1px, 1px, 1px);height: 1px;margin: -1px;overflow: hidden;padding: 0;position: absolute;width: 1px;}#sk-container-id-3 div.sk-estimator {font-family: monospace;background-color: #f0f8ff;border: 1px dotted black;border-radius: 0.25em;box-sizing: border-box;margin-bottom: 0.5em;}#sk-container-id-3 div.sk-estimator:hover {background-color: #d4ebff;}#sk-container-id-3 div.sk-parallel-item::after {content: \"\";width: 100%;border-bottom: 1px solid gray;flex-grow: 1;}#sk-container-id-3 div.sk-label:hover label.sk-toggleable__label {background-color: #d4ebff;}#sk-container-id-3 div.sk-serial::before {content: \"\";position: absolute;border-left: 1px solid gray;box-sizing: border-box;top: 0;bottom: 0;left: 50%;z-index: 0;}#sk-container-id-3 div.sk-serial {display: flex;flex-direction: column;align-items: center;background-color: white;padding-right: 0.2em;padding-left: 0.2em;position: relative;}#sk-container-id-3 div.sk-item {position: relative;z-index: 1;}#sk-container-id-3 div.sk-parallel {display: flex;align-items: stretch;justify-content: center;background-color: white;position: relative;}#sk-container-id-3 div.sk-item::before, #sk-container-id-3 div.sk-parallel-item::before {content: \"\";position: absolute;border-left: 1px solid gray;box-sizing: border-box;top: 0;bottom: 0;left: 50%;z-index: -1;}#sk-container-id-3 div.sk-parallel-item {display: flex;flex-direction: column;z-index: 1;position: relative;background-color: white;}#sk-container-id-3 div.sk-parallel-item:first-child::after {align-self: flex-end;width: 50%;}#sk-container-id-3 div.sk-parallel-item:last-child::after {align-self: flex-start;width: 50%;}#sk-container-id-3 div.sk-parallel-item:only-child::after {width: 0;}#sk-container-id-3 div.sk-dashed-wrapped {border: 1px dashed gray;margin: 0 0.4em 0.5em 0.4em;box-sizing: border-box;padding-bottom: 0.4em;background-color: white;}#sk-container-id-3 div.sk-label label {font-family: monospace;font-weight: bold;display: inline-block;line-height: 1.2em;}#sk-container-id-3 div.sk-label-container {text-align: center;}#sk-container-id-3 div.sk-container {/* jupyter's `normalize.less` sets `[hidden] { display: none; }` but bootstrap.min.css set `[hidden] { display: none !important; }` so we also need the `!important` here to be able to override the default hidden behavior on the sphinx rendered scikit-learn.org. See: https://github.com/scikit-learn/scikit-learn/issues/21755 */display: inline-block !important;position: relative;}#sk-container-id-3 div.sk-text-repr-fallback {display: none;}</style><div id=\"sk-container-id-3\" class=\"sk-top-container\"><div class=\"sk-text-repr-fallback\"><pre>XGBClassifier(base_score=0.5, booster=&#x27;gbtree&#x27;, callbacks=None,\n",
       "              colsample_bylevel=1, colsample_bynode=1, colsample_bytree=1,\n",
       "              early_stopping_rounds=None, enable_categorical=False,\n",
       "              eval_metric=None, gamma=0, gpu_id=-1, grow_policy=&#x27;depthwise&#x27;,\n",
       "              importance_type=None, interaction_constraints=&#x27;&#x27;,\n",
       "              learning_rate=0.300000012, max_bin=256, max_cat_to_onehot=4,\n",
       "              max_delta_step=0, max_depth=6, max_leaves=0, min_child_weight=1,\n",
       "              missing=nan, monotone_constraints=&#x27;()&#x27;, n_estimators=5000,\n",
       "              n_jobs=0, num_parallel_tree=1, predictor=&#x27;auto&#x27;, random_state=2,\n",
       "              reg_alpha=0, reg_lambda=1, ...)</pre><b>In a Jupyter environment, please rerun this cell to show the HTML representation or trust the notebook. <br />On GitHub, the HTML representation is unable to render, please try loading this page with nbviewer.org.</b></div><div class=\"sk-container\" hidden><div class=\"sk-item\"><div class=\"sk-estimator sk-toggleable\"><input class=\"sk-toggleable__control sk-hidden--visually\" id=\"sk-estimator-id-3\" type=\"checkbox\" checked><label for=\"sk-estimator-id-3\" class=\"sk-toggleable__label sk-toggleable__label-arrow\">XGBClassifier</label><div class=\"sk-toggleable__content\"><pre>XGBClassifier(base_score=0.5, booster=&#x27;gbtree&#x27;, callbacks=None,\n",
       "              colsample_bylevel=1, colsample_bynode=1, colsample_bytree=1,\n",
       "              early_stopping_rounds=None, enable_categorical=False,\n",
       "              eval_metric=None, gamma=0, gpu_id=-1, grow_policy=&#x27;depthwise&#x27;,\n",
       "              importance_type=None, interaction_constraints=&#x27;&#x27;,\n",
       "              learning_rate=0.300000012, max_bin=256, max_cat_to_onehot=4,\n",
       "              max_delta_step=0, max_depth=6, max_leaves=0, min_child_weight=1,\n",
       "              missing=nan, monotone_constraints=&#x27;()&#x27;, n_estimators=5000,\n",
       "              n_jobs=0, num_parallel_tree=1, predictor=&#x27;auto&#x27;, random_state=2,\n",
       "              reg_alpha=0, reg_lambda=1, ...)</pre></div></div></div></div></div>"
      ],
      "text/plain": [
       "XGBClassifier(base_score=0.5, booster='gbtree', callbacks=None,\n",
       "              colsample_bylevel=1, colsample_bynode=1, colsample_bytree=1,\n",
       "              early_stopping_rounds=None, enable_categorical=False,\n",
       "              eval_metric=None, gamma=0, gpu_id=-1, grow_policy='depthwise',\n",
       "              importance_type=None, interaction_constraints='',\n",
       "              learning_rate=0.300000012, max_bin=256, max_cat_to_onehot=4,\n",
       "              max_delta_step=0, max_depth=6, max_leaves=0, min_child_weight=1,\n",
       "              missing=nan, monotone_constraints='()', n_estimators=5000,\n",
       "              n_jobs=0, num_parallel_tree=1, predictor='auto', random_state=2,\n",
       "              reg_alpha=0, reg_lambda=1, ...)"
      ]
     },
     "execution_count": 38,
     "metadata": {},
     "output_type": "execute_result"
    }
   ],
   "source": [
    "model = XGBClassifier(booster = \"gbtree\", objective = \"binary:logistic\", random_state = 2, n_estimators = 5000)\n",
    "eval_set = [(X_test, y_test)]\n",
    "eval_metric = 'error'\n",
    "model.fit(X_train, y_train, eval_metric= eval_metric, eval_set= eval_set, early_stopping_rounds= 100)"
   ]
  },
  {
   "cell_type": "code",
   "execution_count": 39,
   "id": "bed02a7d",
   "metadata": {},
   "outputs": [
    {
     "name": "stdout",
     "output_type": "stream",
     "text": [
      "Accuracy : 0.895\n"
     ]
    }
   ],
   "source": [
    "y_pred = model.predict(X_test)\n",
    "accuracy = accuracy_score(y_test, y_pred)\n",
    "print(\"Accuracy : {:.3f}\".format(accuracy))"
   ]
  },
  {
   "cell_type": "code",
   "execution_count": 41,
   "id": "d7646dba",
   "metadata": {},
   "outputs": [
    {
     "name": "stdout",
     "output_type": "stream",
     "text": [
      "Best Params :  {'n_estimators': 50}\n",
      "Training Score : 0.789\n"
     ]
    }
   ],
   "source": [
    "grid_search(params= {'n_estimators' : [2, 25, 50, 75, 100]})"
   ]
  },
  {
   "cell_type": "code",
   "execution_count": 43,
   "id": "33d0d5ac",
   "metadata": {},
   "outputs": [
    {
     "name": "stdout",
     "output_type": "stream",
     "text": [
      "Best Params :  {'max_depth': 1, 'n_estimators': 50}\n",
      "Training Score : 0.839\n"
     ]
    }
   ],
   "source": [
    "grid_search(params = {'max_depth' : [1, 2, 3, 4, 5, 6, 7, 8], 'n_estimators': [50]})"
   ]
  },
  {
   "cell_type": "code",
   "execution_count": 44,
   "id": "4372c62a",
   "metadata": {},
   "outputs": [
    {
     "name": "stdout",
     "output_type": "stream",
     "text": [
      "Best Params :  {'max_depth': 1, 'n_estimators': 50}\n",
      "Training Score : 0.839\n"
     ]
    }
   ],
   "source": [
    "grid_search(params = {'max_depth' : [1, 2, 3, 4, 5, 6, 7, 8], \n",
    "                      'n_estimators': [2, 50, 100]})"
   ]
  },
  {
   "cell_type": "code",
   "execution_count": 45,
   "id": "8cadc814",
   "metadata": {},
   "outputs": [
    {
     "name": "stdout",
     "output_type": "stream",
     "text": [
      "Best Params :  {'learning_rate': 0.3, 'max_depth': 1, 'n_estimators': 50}\n",
      "Training Score : 0.839\n"
     ]
    }
   ],
   "source": [
    "grid_search(params = {'learning_rate' : [0.01, 0.05, 0.1, 0.2, 0.3, 0.4, 0.5],\n",
    "                     'max_depth' : [1],\n",
    "                     'n_estimators' : [50]})"
   ]
  },
  {
   "cell_type": "code",
   "execution_count": 46,
   "id": "cb67cad7",
   "metadata": {},
   "outputs": [
    {
     "name": "stdout",
     "output_type": "stream",
     "text": [
      "Best Params :  {'max_depth': 1, 'min_child_weight': 1, 'n_estimators': 50}\n",
      "Training Score : 0.839\n"
     ]
    }
   ],
   "source": [
    "grid_search(params = {'min_child_weight' : [1,2,3,4,5],\n",
    "                     'max_depth' : [1],\n",
    "                     'n_estimators' : [50]})"
   ]
  },
  {
   "cell_type": "code",
   "execution_count": 47,
   "id": "7f19b59b",
   "metadata": {},
   "outputs": [
    {
     "name": "stdout",
     "output_type": "stream",
     "text": [
      "Best Params :  {'max_depth': 1, 'n_estimators': 50, 'subsample': 1.0}\n",
      "Training Score : 0.839\n"
     ]
    }
   ],
   "source": [
    "grid_search(params = {'subsample' : [0.5, 0.6, 0.7, 0.8, 0.9, 1.0],\n",
    "                     'max_depth' : [1],\n",
    "                     'n_estimators' : [50]})"
   ]
  },
  {
   "cell_type": "code",
   "execution_count": 48,
   "id": "2bf8c963",
   "metadata": {},
   "outputs": [
    {
     "name": "stdout",
     "output_type": "stream",
     "text": [
      "Best Params :  {'learning_rate': 0.5, 'max_depth': 2, 'min_child_weight': 4, 'n_estimators': 2, 'subsample': 0.9}\n",
      "Training Score : 0.812\n"
     ]
    }
   ],
   "source": [
    "grid_search(params = {'learning_rate' : [0.01, 0.05, 0.1, 0.2, 0.3, 0.4, 0.5],\n",
    "                      'subsample' : [0.5, 0.6, 0.7, 0.8, 0.9, 1.0],\n",
    "                      'min_child_weight' : [1, 2, 3, 4, 5],\n",
    "                     'max_depth' : [1, 2, 3, 4, 5],\n",
    "                     'n_estimators' : [2]})"
   ]
  },
  {
   "cell_type": "code",
   "execution_count": 49,
   "id": "dd433eb5",
   "metadata": {},
   "outputs": [
    {
     "name": "stdout",
     "output_type": "stream",
     "text": [
      "Best Params :  {'subsample': 1.0, 'n_estimators': 100, 'min_child_weight': 4, 'max_depth': 1, 'learning_rate': 0.3}\n",
      "Training Score : 0.816\n"
     ]
    }
   ],
   "source": [
    "grid_search(params = {'learning_rate' : [0.01, 0.05, 0.1, 0.2, 0.3, 0.4, 0.5],\n",
    "                      'subsample' : [0.5, 0.6, 0.7, 0.8, 0.9, 1.0],\n",
    "                      'min_child_weight' : [1, 2, 3, 4, 5],\n",
    "                     'max_depth' : [1, 2, 3, 4, 5, None],\n",
    "                     'n_estimators' : [2, 25, 50, 75, 100]},\n",
    "           random= True)"
   ]
  },
  {
   "cell_type": "code",
   "execution_count": 50,
   "id": "bd7f4738",
   "metadata": {},
   "outputs": [
    {
     "name": "stdout",
     "output_type": "stream",
     "text": [
      "Best Params :  {'colsample_bytree': 0.8, 'max_depth': 1, 'n_estimators': 50}\n",
      "Training Score : 0.842\n"
     ]
    }
   ],
   "source": [
    "grid_search(params= {'colsample_bytree': [0.5, 0.6, 0.7, 0.8, 0.9, 1.0],\n",
    "                    'max_depth' : [1],\n",
    "                    'n_estimators': [50]})"
   ]
  },
  {
   "cell_type": "code",
   "execution_count": 51,
   "id": "74b78842",
   "metadata": {},
   "outputs": [
    {
     "name": "stdout",
     "output_type": "stream",
     "text": [
      "Best Params :  {'colsample_bylevel': 0.8, 'max_depth': 1, 'n_estimators': 50}\n",
      "Training Score : 0.842\n"
     ]
    }
   ],
   "source": [
    "grid_search(params= {'colsample_bylevel': [0.5, 0.6, 0.7, 0.8, 0.9, 1.0],\n",
    "                    'max_depth' : [1],\n",
    "                    'n_estimators': [50]})"
   ]
  },
  {
   "cell_type": "code",
   "execution_count": 52,
   "id": "64bca599",
   "metadata": {},
   "outputs": [
    {
     "name": "stdout",
     "output_type": "stream",
     "text": [
      "Best Params :  {'colsample_bylevel': 0.6, 'colsample_bynode': 0.8, 'colsample_bytree': 0.7, 'max_depth': 1, 'n_estimators': 50}\n",
      "Training Score : 0.852\n"
     ]
    }
   ],
   "source": [
    "grid_search(params= {'colsample_bylevel': [0.5, 0.6, 0.7, 0.8, 0.9, 1.0],\n",
    "                     'colsample_bynode': [0.5, 0.6, 0.7, 0.8, 0.9, 1.0],\n",
    "                     'colsample_bytree': [0.5, 0.6, 0.7, 0.8, 0.9, 1.0],\n",
    "                    'max_depth' : [1],\n",
    "                    'n_estimators': [50]})"
   ]
  },
  {
   "cell_type": "code",
   "execution_count": 53,
   "id": "85d5233c",
   "metadata": {},
   "outputs": [
    {
     "name": "stdout",
     "output_type": "stream",
     "text": [
      "Best Params :  {'colsample_bylevel': 0.6, 'colsample_bynode': 0.8, 'colsample_bytree': 0.7, 'gamma': 0, 'max_depth': 1, 'n_estimators': 50}\n",
      "Training Score : 0.852\n"
     ]
    }
   ],
   "source": [
    "grid_search(params= {'gamma' : [0, 0.1, 0.05, 0.1, 0.5, 1, 2, 3],\n",
    "                    'colsample_bynode':[0.8],\n",
    "                    'colsample_bylevel':[0.6],\n",
    "                    'colsample_bytree':[0.7],\n",
    "                    'max_depth':[1],\n",
    "                    'n_estimators':[50]})"
   ]
  },
  {
   "cell_type": "code",
   "execution_count": null,
   "id": "a77fa399",
   "metadata": {},
   "outputs": [],
   "source": []
  }
 ],
 "metadata": {
  "kernelspec": {
   "display_name": "xgb",
   "language": "python",
   "name": "xgb"
  },
  "language_info": {
   "codemirror_mode": {
    "name": "ipython",
    "version": 3
   },
   "file_extension": ".py",
   "mimetype": "text/x-python",
   "name": "python",
   "nbconvert_exporter": "python",
   "pygments_lexer": "ipython3",
   "version": "3.9.7"
  }
 },
 "nbformat": 4,
 "nbformat_minor": 5
}
